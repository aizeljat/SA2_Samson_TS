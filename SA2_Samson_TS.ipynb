{
  "nbformat": 4,
  "nbformat_minor": 0,
  "metadata": {
    "colab": {
      "provenance": []
    },
    "kernelspec": {
      "name": "python3",
      "display_name": "Python 3"
    },
    "language_info": {
      "name": "python"
    }
  },
  "cells": [
    {
      "cell_type": "markdown",
      "source": [
        "# SA #2\n",
        "\n",
        "**Samson, Justine Aizel D.**\n",
        "\n",
        "\n",
        " #### *Historical Prices Dataset*"
      ],
      "metadata": {
        "id": "uzLMJUdoJPpj"
      }
    },
    {
      "cell_type": "markdown",
      "source": [
        "# Dataset Loading"
      ],
      "metadata": {
        "id": "p8MeXi4ALt3S"
      }
    },
    {
      "cell_type": "code",
      "execution_count": 4,
      "metadata": {
        "colab": {
          "base_uri": "https://localhost:8080/",
          "height": 224
        },
        "id": "KrSwp500JJ-2",
        "outputId": "3a36b69d-fe00-424e-8382-ea14f2a9abbb"
      },
      "outputs": [
        {
          "output_type": "stream",
          "name": "stdout",
          "text": [
            "Mounted at /content/drive\n"
          ]
        },
        {
          "output_type": "execute_result",
          "data": {
            "text/plain": [
              "       Date     Open    High     Low    Close\n",
              "0  04/03/07  6366.11  6366.1  6318.8  6366.11\n",
              "1  04/02/07  6315.53  6342.2  6293.9  6315.53\n",
              "2  03/30/07  6308.03  6330.0  6291.1  6308.03\n",
              "3  03/29/07  6324.18  6334.7  6267.2  6324.18\n",
              "4  03/28/07  6267.21  6304.9  6250.1  6267.21"
            ],
            "text/html": [
              "\n",
              "  <div id=\"df-e703d0fa-e32a-4452-b5c2-f70e4e75e936\" class=\"colab-df-container\">\n",
              "    <div>\n",
              "<style scoped>\n",
              "    .dataframe tbody tr th:only-of-type {\n",
              "        vertical-align: middle;\n",
              "    }\n",
              "\n",
              "    .dataframe tbody tr th {\n",
              "        vertical-align: top;\n",
              "    }\n",
              "\n",
              "    .dataframe thead th {\n",
              "        text-align: right;\n",
              "    }\n",
              "</style>\n",
              "<table border=\"1\" class=\"dataframe\">\n",
              "  <thead>\n",
              "    <tr style=\"text-align: right;\">\n",
              "      <th></th>\n",
              "      <th>Date</th>\n",
              "      <th>Open</th>\n",
              "      <th>High</th>\n",
              "      <th>Low</th>\n",
              "      <th>Close</th>\n",
              "    </tr>\n",
              "  </thead>\n",
              "  <tbody>\n",
              "    <tr>\n",
              "      <th>0</th>\n",
              "      <td>04/03/07</td>\n",
              "      <td>6366.11</td>\n",
              "      <td>6366.1</td>\n",
              "      <td>6318.8</td>\n",
              "      <td>6366.11</td>\n",
              "    </tr>\n",
              "    <tr>\n",
              "      <th>1</th>\n",
              "      <td>04/02/07</td>\n",
              "      <td>6315.53</td>\n",
              "      <td>6342.2</td>\n",
              "      <td>6293.9</td>\n",
              "      <td>6315.53</td>\n",
              "    </tr>\n",
              "    <tr>\n",
              "      <th>2</th>\n",
              "      <td>03/30/07</td>\n",
              "      <td>6308.03</td>\n",
              "      <td>6330.0</td>\n",
              "      <td>6291.1</td>\n",
              "      <td>6308.03</td>\n",
              "    </tr>\n",
              "    <tr>\n",
              "      <th>3</th>\n",
              "      <td>03/29/07</td>\n",
              "      <td>6324.18</td>\n",
              "      <td>6334.7</td>\n",
              "      <td>6267.2</td>\n",
              "      <td>6324.18</td>\n",
              "    </tr>\n",
              "    <tr>\n",
              "      <th>4</th>\n",
              "      <td>03/28/07</td>\n",
              "      <td>6267.21</td>\n",
              "      <td>6304.9</td>\n",
              "      <td>6250.1</td>\n",
              "      <td>6267.21</td>\n",
              "    </tr>\n",
              "  </tbody>\n",
              "</table>\n",
              "</div>\n",
              "    <div class=\"colab-df-buttons\">\n",
              "\n",
              "  <div class=\"colab-df-container\">\n",
              "    <button class=\"colab-df-convert\" onclick=\"convertToInteractive('df-e703d0fa-e32a-4452-b5c2-f70e4e75e936')\"\n",
              "            title=\"Convert this dataframe to an interactive table.\"\n",
              "            style=\"display:none;\">\n",
              "\n",
              "  <svg xmlns=\"http://www.w3.org/2000/svg\" height=\"24px\" viewBox=\"0 -960 960 960\">\n",
              "    <path d=\"M120-120v-720h720v720H120Zm60-500h600v-160H180v160Zm220 220h160v-160H400v160Zm0 220h160v-160H400v160ZM180-400h160v-160H180v160Zm440 0h160v-160H620v160ZM180-180h160v-160H180v160Zm440 0h160v-160H620v160Z\"/>\n",
              "  </svg>\n",
              "    </button>\n",
              "\n",
              "  <style>\n",
              "    .colab-df-container {\n",
              "      display:flex;\n",
              "      gap: 12px;\n",
              "    }\n",
              "\n",
              "    .colab-df-convert {\n",
              "      background-color: #E8F0FE;\n",
              "      border: none;\n",
              "      border-radius: 50%;\n",
              "      cursor: pointer;\n",
              "      display: none;\n",
              "      fill: #1967D2;\n",
              "      height: 32px;\n",
              "      padding: 0 0 0 0;\n",
              "      width: 32px;\n",
              "    }\n",
              "\n",
              "    .colab-df-convert:hover {\n",
              "      background-color: #E2EBFA;\n",
              "      box-shadow: 0px 1px 2px rgba(60, 64, 67, 0.3), 0px 1px 3px 1px rgba(60, 64, 67, 0.15);\n",
              "      fill: #174EA6;\n",
              "    }\n",
              "\n",
              "    .colab-df-buttons div {\n",
              "      margin-bottom: 4px;\n",
              "    }\n",
              "\n",
              "    [theme=dark] .colab-df-convert {\n",
              "      background-color: #3B4455;\n",
              "      fill: #D2E3FC;\n",
              "    }\n",
              "\n",
              "    [theme=dark] .colab-df-convert:hover {\n",
              "      background-color: #434B5C;\n",
              "      box-shadow: 0px 1px 3px 1px rgba(0, 0, 0, 0.15);\n",
              "      filter: drop-shadow(0px 1px 2px rgba(0, 0, 0, 0.3));\n",
              "      fill: #FFFFFF;\n",
              "    }\n",
              "  </style>\n",
              "\n",
              "    <script>\n",
              "      const buttonEl =\n",
              "        document.querySelector('#df-e703d0fa-e32a-4452-b5c2-f70e4e75e936 button.colab-df-convert');\n",
              "      buttonEl.style.display =\n",
              "        google.colab.kernel.accessAllowed ? 'block' : 'none';\n",
              "\n",
              "      async function convertToInteractive(key) {\n",
              "        const element = document.querySelector('#df-e703d0fa-e32a-4452-b5c2-f70e4e75e936');\n",
              "        const dataTable =\n",
              "          await google.colab.kernel.invokeFunction('convertToInteractive',\n",
              "                                                    [key], {});\n",
              "        if (!dataTable) return;\n",
              "\n",
              "        const docLinkHtml = 'Like what you see? Visit the ' +\n",
              "          '<a target=\"_blank\" href=https://colab.research.google.com/notebooks/data_table.ipynb>data table notebook</a>'\n",
              "          + ' to learn more about interactive tables.';\n",
              "        element.innerHTML = '';\n",
              "        dataTable['output_type'] = 'display_data';\n",
              "        await google.colab.output.renderOutput(dataTable, element);\n",
              "        const docLink = document.createElement('div');\n",
              "        docLink.innerHTML = docLinkHtml;\n",
              "        element.appendChild(docLink);\n",
              "      }\n",
              "    </script>\n",
              "  </div>\n",
              "\n",
              "\n",
              "<div id=\"df-70910eb0-9508-46ca-a1d3-568d751c388c\">\n",
              "  <button class=\"colab-df-quickchart\" onclick=\"quickchart('df-70910eb0-9508-46ca-a1d3-568d751c388c')\"\n",
              "            title=\"Suggest charts\"\n",
              "            style=\"display:none;\">\n",
              "\n",
              "<svg xmlns=\"http://www.w3.org/2000/svg\" height=\"24px\"viewBox=\"0 0 24 24\"\n",
              "     width=\"24px\">\n",
              "    <g>\n",
              "        <path d=\"M19 3H5c-1.1 0-2 .9-2 2v14c0 1.1.9 2 2 2h14c1.1 0 2-.9 2-2V5c0-1.1-.9-2-2-2zM9 17H7v-7h2v7zm4 0h-2V7h2v10zm4 0h-2v-4h2v4z\"/>\n",
              "    </g>\n",
              "</svg>\n",
              "  </button>\n",
              "\n",
              "<style>\n",
              "  .colab-df-quickchart {\n",
              "      --bg-color: #E8F0FE;\n",
              "      --fill-color: #1967D2;\n",
              "      --hover-bg-color: #E2EBFA;\n",
              "      --hover-fill-color: #174EA6;\n",
              "      --disabled-fill-color: #AAA;\n",
              "      --disabled-bg-color: #DDD;\n",
              "  }\n",
              "\n",
              "  [theme=dark] .colab-df-quickchart {\n",
              "      --bg-color: #3B4455;\n",
              "      --fill-color: #D2E3FC;\n",
              "      --hover-bg-color: #434B5C;\n",
              "      --hover-fill-color: #FFFFFF;\n",
              "      --disabled-bg-color: #3B4455;\n",
              "      --disabled-fill-color: #666;\n",
              "  }\n",
              "\n",
              "  .colab-df-quickchart {\n",
              "    background-color: var(--bg-color);\n",
              "    border: none;\n",
              "    border-radius: 50%;\n",
              "    cursor: pointer;\n",
              "    display: none;\n",
              "    fill: var(--fill-color);\n",
              "    height: 32px;\n",
              "    padding: 0;\n",
              "    width: 32px;\n",
              "  }\n",
              "\n",
              "  .colab-df-quickchart:hover {\n",
              "    background-color: var(--hover-bg-color);\n",
              "    box-shadow: 0 1px 2px rgba(60, 64, 67, 0.3), 0 1px 3px 1px rgba(60, 64, 67, 0.15);\n",
              "    fill: var(--button-hover-fill-color);\n",
              "  }\n",
              "\n",
              "  .colab-df-quickchart-complete:disabled,\n",
              "  .colab-df-quickchart-complete:disabled:hover {\n",
              "    background-color: var(--disabled-bg-color);\n",
              "    fill: var(--disabled-fill-color);\n",
              "    box-shadow: none;\n",
              "  }\n",
              "\n",
              "  .colab-df-spinner {\n",
              "    border: 2px solid var(--fill-color);\n",
              "    border-color: transparent;\n",
              "    border-bottom-color: var(--fill-color);\n",
              "    animation:\n",
              "      spin 1s steps(1) infinite;\n",
              "  }\n",
              "\n",
              "  @keyframes spin {\n",
              "    0% {\n",
              "      border-color: transparent;\n",
              "      border-bottom-color: var(--fill-color);\n",
              "      border-left-color: var(--fill-color);\n",
              "    }\n",
              "    20% {\n",
              "      border-color: transparent;\n",
              "      border-left-color: var(--fill-color);\n",
              "      border-top-color: var(--fill-color);\n",
              "    }\n",
              "    30% {\n",
              "      border-color: transparent;\n",
              "      border-left-color: var(--fill-color);\n",
              "      border-top-color: var(--fill-color);\n",
              "      border-right-color: var(--fill-color);\n",
              "    }\n",
              "    40% {\n",
              "      border-color: transparent;\n",
              "      border-right-color: var(--fill-color);\n",
              "      border-top-color: var(--fill-color);\n",
              "    }\n",
              "    60% {\n",
              "      border-color: transparent;\n",
              "      border-right-color: var(--fill-color);\n",
              "    }\n",
              "    80% {\n",
              "      border-color: transparent;\n",
              "      border-right-color: var(--fill-color);\n",
              "      border-bottom-color: var(--fill-color);\n",
              "    }\n",
              "    90% {\n",
              "      border-color: transparent;\n",
              "      border-bottom-color: var(--fill-color);\n",
              "    }\n",
              "  }\n",
              "</style>\n",
              "\n",
              "  <script>\n",
              "    async function quickchart(key) {\n",
              "      const quickchartButtonEl =\n",
              "        document.querySelector('#' + key + ' button');\n",
              "      quickchartButtonEl.disabled = true;  // To prevent multiple clicks.\n",
              "      quickchartButtonEl.classList.add('colab-df-spinner');\n",
              "      try {\n",
              "        const charts = await google.colab.kernel.invokeFunction(\n",
              "            'suggestCharts', [key], {});\n",
              "      } catch (error) {\n",
              "        console.error('Error during call to suggestCharts:', error);\n",
              "      }\n",
              "      quickchartButtonEl.classList.remove('colab-df-spinner');\n",
              "      quickchartButtonEl.classList.add('colab-df-quickchart-complete');\n",
              "    }\n",
              "    (() => {\n",
              "      let quickchartButtonEl =\n",
              "        document.querySelector('#df-70910eb0-9508-46ca-a1d3-568d751c388c button');\n",
              "      quickchartButtonEl.style.display =\n",
              "        google.colab.kernel.accessAllowed ? 'block' : 'none';\n",
              "    })();\n",
              "  </script>\n",
              "</div>\n",
              "\n",
              "    </div>\n",
              "  </div>\n"
            ],
            "application/vnd.google.colaboratory.intrinsic+json": {
              "type": "dataframe",
              "variable_name": "data",
              "summary": "{\n  \"name\": \"data\",\n  \"rows\": 5381,\n  \"fields\": [\n    {\n      \"column\": \"Date\",\n      \"properties\": {\n        \"dtype\": \"object\",\n        \"num_unique_values\": 5381,\n        \"samples\": [\n          \"06/22/04\",\n          \"02/20/97\",\n          \"03/24/98\"\n        ],\n        \"semantic_type\": \"\",\n        \"description\": \"\"\n      }\n    },\n    {\n      \"column\": \" Open\",\n      \"properties\": {\n        \"dtype\": \"number\",\n        \"std\": 1564.4087593965785,\n        \"min\": 1370.1,\n        \"max\": 6930.2,\n        \"num_unique_values\": 5163,\n        \"samples\": [\n          6546.65,\n          6586.27,\n          2313.2\n        ],\n        \"semantic_type\": \"\",\n        \"description\": \"\"\n      }\n    },\n    {\n      \"column\": \" High\",\n      \"properties\": {\n        \"dtype\": \"number\",\n        \"std\": 1575.1724200029155,\n        \"min\": 1370.1,\n        \"max\": 6930.2,\n        \"num_unique_values\": 5044,\n        \"samples\": [\n          2470.7,\n          1770.2,\n          3893.3\n        ],\n        \"semantic_type\": \"\",\n        \"description\": \"\"\n      }\n    },\n    {\n      \"column\": \" Low\",\n      \"properties\": {\n        \"dtype\": \"number\",\n        \"std\": 1553.926253353099,\n        \"min\": 1370.1,\n        \"max\": 6930.2,\n        \"num_unique_values\": 5057,\n        \"samples\": [\n          6206.77,\n          2412.6,\n          3523.3\n        ],\n        \"semantic_type\": \"\",\n        \"description\": \"\"\n      }\n    },\n    {\n      \"column\": \" Close\",\n      \"properties\": {\n        \"dtype\": \"number\",\n        \"std\": 1564.4087593965785,\n        \"min\": 1370.1,\n        \"max\": 6930.2,\n        \"num_unique_values\": 5163,\n        \"samples\": [\n          6546.65,\n          6586.27,\n          2313.2\n        ],\n        \"semantic_type\": \"\",\n        \"description\": \"\"\n      }\n    }\n  ]\n}"
            }
          },
          "metadata": {},
          "execution_count": 4
        }
      ],
      "source": [
        "# prompt: get data or get acess to my drive /content/drive\n",
        "\n",
        "from google.colab import drive\n",
        "drive.mount('/content/drive')\n",
        "\n",
        "# Now you can access your Google Drive files using the path '/content/drive/My Drive/'\n",
        "# For example, to list the files in your Google Drive:\n",
        "#!ls '/content/drive/My Drive/'\n",
        "\n",
        "# Upload the dataset\n",
        "from google.colab import files\n",
        "\n",
        "# Load the dataset\n",
        "import pandas as pd\n",
        "import numpy as np\n",
        "import matplotlib.pyplot as plt\n",
        "import seaborn as sns\n",
        "\n",
        "pd.options.display.max_columns = None\n",
        "pd.options.display.max_rows = None\n",
        "\n",
        "# Load dataset\n",
        "data = pd.read_csv('/content/drive/MyDrive/Time Series/HistoricalPrices.csv')\n",
        "\n",
        "# Display the first few rows of the dataset\n",
        "data.head()"
      ]
    },
    {
      "cell_type": "code",
      "source": [
        "!pip install arch"
      ],
      "metadata": {
        "colab": {
          "base_uri": "https://localhost:8080/"
        },
        "id": "d5c1yuQsS5Ba",
        "outputId": "531583e2-cc31-4479-eed8-bc5e861af2b4"
      },
      "execution_count": 5,
      "outputs": [
        {
          "output_type": "stream",
          "name": "stdout",
          "text": [
            "Requirement already satisfied: arch in /usr/local/lib/python3.10/dist-packages (7.2.0)\n",
            "Requirement already satisfied: numpy>=1.22.3 in /usr/local/lib/python3.10/dist-packages (from arch) (1.26.4)\n",
            "Requirement already satisfied: scipy>=1.8 in /usr/local/lib/python3.10/dist-packages (from arch) (1.13.1)\n",
            "Requirement already satisfied: pandas>=1.4 in /usr/local/lib/python3.10/dist-packages (from arch) (2.2.2)\n",
            "Requirement already satisfied: statsmodels>=0.12 in /usr/local/lib/python3.10/dist-packages (from arch) (0.14.4)\n",
            "Requirement already satisfied: python-dateutil>=2.8.2 in /usr/local/lib/python3.10/dist-packages (from pandas>=1.4->arch) (2.8.2)\n",
            "Requirement already satisfied: pytz>=2020.1 in /usr/local/lib/python3.10/dist-packages (from pandas>=1.4->arch) (2024.2)\n",
            "Requirement already satisfied: tzdata>=2022.7 in /usr/local/lib/python3.10/dist-packages (from pandas>=1.4->arch) (2024.2)\n",
            "Requirement already satisfied: patsy>=0.5.6 in /usr/local/lib/python3.10/dist-packages (from statsmodels>=0.12->arch) (1.0.1)\n",
            "Requirement already satisfied: packaging>=21.3 in /usr/local/lib/python3.10/dist-packages (from statsmodels>=0.12->arch) (24.2)\n",
            "Requirement already satisfied: six>=1.5 in /usr/local/lib/python3.10/dist-packages (from python-dateutil>=2.8.2->pandas>=1.4->arch) (1.17.0)\n"
          ]
        }
      ]
    },
    {
      "cell_type": "code",
      "source": [
        "# Strip leading and trailing spaces from column names\n",
        "data.columns = data.columns.str.strip()\n",
        "\n",
        "# Verify the updated column names\n",
        "print(data.columns)\n",
        "\n",
        "\n",
        "# Calculate log returns\n",
        "data['Returns'] = np.log(data['Close'] / data['Close'].shift(1))\n"
      ],
      "metadata": {
        "colab": {
          "base_uri": "https://localhost:8080/"
        },
        "id": "CyUmzJg0TOLF",
        "outputId": "d9bfc0f6-7bd1-483d-9b90-673b66ea59af"
      },
      "execution_count": 6,
      "outputs": [
        {
          "output_type": "stream",
          "name": "stdout",
          "text": [
            "Index(['Date', 'Open', 'High', 'Low', 'Close'], dtype='object')\n"
          ]
        }
      ]
    },
    {
      "cell_type": "markdown",
      "source": [
        "# 1. Calculate the returns of the FTSE100 index"
      ],
      "metadata": {
        "id": "QsVNdwttbHq2"
      }
    },
    {
      "cell_type": "code",
      "source": [
        "# Import libraries\n",
        "from statsmodels.tsa.stattools import adfuller\n",
        "from statsmodels.graphics.tsaplots import plot_acf, plot_pacf\n",
        "from arch import arch_model\n",
        "import pandas as pd\n",
        "import numpy as np\n",
        "import matplotlib.pyplot as plt\n",
        "\n",
        "# Load dataset\n",
        "data = pd.read_csv('/content/drive/MyDrive/Time Series/HistoricalPrices.csv')\n",
        "\n",
        "# Strip leading/trailing spaces from column names\n",
        "data.columns = data.columns.str.strip()\n",
        "\n",
        "# Convert 'Date' column to datetime and set as index\n",
        "data['Date'] = pd.to_datetime(data['Date'], format='%m/%d/%y')\n",
        "data.set_index('Date', inplace=True)\n",
        "\n",
        "# Calculate log returns\n",
        "data['Returns'] = np.log(data['Close'] / data['Close'].shift(1))\n",
        "data = data.dropna()  # Drop missing values from shift"
      ],
      "metadata": {
        "id": "xgXWu6r9bHbM"
      },
      "execution_count": 7,
      "outputs": []
    },
    {
      "cell_type": "markdown",
      "source": [
        "# 2. Create graphs/charts and conduct tests to verify GARCH model applicability\n",
        "\n",
        "**Return Series Visualization:**"
      ],
      "metadata": {
        "id": "LKwXGAqRbsfw"
      }
    },
    {
      "cell_type": "code",
      "source": [
        "plt.figure(figsize=(10, 6))\n",
        "plt.plot(data['Returns'], label=\"Log Returns\")\n",
        "plt.title(\"FTSE100 Log Returns\")\n",
        "plt.legend()\n",
        "plt.show()\n"
      ],
      "metadata": {
        "colab": {
          "base_uri": "https://localhost:8080/",
          "height": 545
        },
        "id": "8eHo5K-WbWRr",
        "outputId": "4a3a5dbe-54f4-4613-fe8a-99884a271e8f"
      },
      "execution_count": 8,
      "outputs": [
        {
          "output_type": "display_data",
          "data": {
            "text/plain": [
              "<Figure size 1000x600 with 1 Axes>"
            ],
            "image/png": "[encoded data removed]"
          },
          "metadata": {}
        }
      ]
    },
    {
      "cell_type": "markdown",
      "source": [
        "**ACF and PACF for Squared Returns:**\n"
      ],
      "metadata": {
        "id": "jE5yNlrZdw5T"
      }
    },
    {
      "cell_type": "code",
      "source": [
        "# Plot ACF and PACF of squared returns\n",
        "plt.figure(figsize=(12, 6))\n",
        "plt.subplot(121)\n",
        "plot_acf(data['Returns'] ** 2, lags=20, ax=plt.gca(), title=\"ACF of Squared Returns\")\n",
        "plt.subplot(122)\n",
        "plot_pacf(data['Returns'] ** 2, lags=20, ax=plt.gca(), title=\"PACF of Squared Returns\")\n",
        "plt.show()"
      ],
      "metadata": {
        "colab": {
          "base_uri": "https://localhost:8080/",
          "height": 545
        },
        "id": "lkp3-Nuzd8Xd",
        "outputId": "8868da72-4827-45f0-d7d8-6b7cb9e44b5e"
      },
      "execution_count": 9,
      "outputs": [
        {
          "output_type": "display_data",
          "data": {
            "text/plain": [
              "<Figure size 1200x600 with 2 Axes>"
            ],
            "image/png": "[encoded data removed]"
          },
          "metadata": {}
        }
      ]
    },
    {
      "cell_type": "markdown",
      "source": [
        "**Stationarity Test (ADF)**"
      ],
      "metadata": {
        "id": "PeSk1VyMeahx"
      }
    },
    {
      "cell_type": "code",
      "source": [
        "# Perform Augmented Dickey-Fuller Test\n",
        "adf_test = adfuller(data['Returns'])\n",
        "print(f\"ADF Statistic: {adf_test[0]}\")\n",
        "print(f\"p-value: {adf_test[1]}\")\n",
        "if adf_test[1] <= 0.05:\n",
        "    print(\"The returns series is stationary.\")\n",
        "else:\n",
        "    print(\"The returns series is not stationary.\")"
      ],
      "metadata": {
        "colab": {
          "base_uri": "https://localhost:8080/"
        },
        "id": "LO-sRyx6ea07",
        "outputId": "06053b01-bb94-42f2-e907-9b56ae3685bf"
      },
      "execution_count": 10,
      "outputs": [
        {
          "output_type": "stream",
          "name": "stdout",
          "text": [
            "ADF Statistic: -23.565678993850867\n",
            "p-value: 0.0\n",
            "The returns series is stationary.\n"
          ]
        }
      ]
    },
    {
      "cell_type": "markdown",
      "source": [
        "# 3. List down all probable GARCH models"
      ],
      "metadata": {
        "id": "H5bGb1CgisdX"
      }
    },
    {
      "cell_type": "code",
      "source": [
        "!pip install arch"
      ],
      "metadata": {
        "colab": {
          "base_uri": "https://localhost:8080/"
        },
        "id": "T9YjHCpKGPWT",
        "outputId": "a800339e-ac92-4618-e503-9cb6246242fd"
      },
      "execution_count": 11,
      "outputs": [
        {
          "output_type": "stream",
          "name": "stdout",
          "text": [
            "Requirement already satisfied: arch in /usr/local/lib/python3.10/dist-packages (7.2.0)\n",
            "Requirement already satisfied: numpy>=1.22.3 in /usr/local/lib/python3.10/dist-packages (from arch) (1.26.4)\n",
            "Requirement already satisfied: scipy>=1.8 in /usr/local/lib/python3.10/dist-packages (from arch) (1.13.1)\n",
            "Requirement already satisfied: pandas>=1.4 in /usr/local/lib/python3.10/dist-packages (from arch) (2.2.2)\n",
            "Requirement already satisfied: statsmodels>=0.12 in /usr/local/lib/python3.10/dist-packages (from arch) (0.14.4)\n",
            "Requirement already satisfied: python-dateutil>=2.8.2 in /usr/local/lib/python3.10/dist-packages (from pandas>=1.4->arch) (2.8.2)\n",
            "Requirement already satisfied: pytz>=2020.1 in /usr/local/lib/python3.10/dist-packages (from pandas>=1.4->arch) (2024.2)\n",
            "Requirement already satisfied: tzdata>=2022.7 in /usr/local/lib/python3.10/dist-packages (from pandas>=1.4->arch) (2024.2)\n",
            "Requirement already satisfied: patsy>=0.5.6 in /usr/local/lib/python3.10/dist-packages (from statsmodels>=0.12->arch) (1.0.1)\n",
            "Requirement already satisfied: packaging>=21.3 in /usr/local/lib/python3.10/dist-packages (from statsmodels>=0.12->arch) (24.2)\n",
            "Requirement already satisfied: six>=1.5 in /usr/local/lib/python3.10/dist-packages (from python-dateutil>=2.8.2->pandas>=1.4->arch) (1.17.0)\n"
          ]
        }
      ]
    },
    {
      "cell_type": "code",
      "source": [
        "import warnings\n",
        "from arch import arch_model\n",
        "\n",
        "# Suppress warnings\n",
        "warnings.filterwarnings(\"ignore\", category=UserWarning)\n",
        "\n",
        "# Fit GARCH Models\n",
        "print(\"Fitting GARCH Models:\")\n",
        "models = {}\n",
        "criteria = {}\n",
        "\n",
        "for p, q in [(1, 1), (1, 2), (2, 1), (2, 2)]:\n",
        "    model = arch_model(data['Returns'], vol='Garch', p=p, q=q, dist='Normal', rescale=False)  # Set rescale=False\n",
        "    fitted_model = model.fit(disp=\"off\")\n",
        "    models[f\"GARCH({p},{q})\"] = fitted_model\n",
        "    criteria[f\"GARCH({p},{q})\"] = fitted_model.aic\n",
        "    print(f\"GARCH({p},{q}): AIC = {fitted_model.aic}\")\n",
        "\n",
        "# Find the best model based on AIC\n",
        "best_model = min(criteria, key=criteria.get)\n",
        "print(f\"Best GARCH model: {best_model}\")\n",
        "\n",
        "# Summarize the best model\n",
        "print(models[best_model].summary())\n"
      ],
      "metadata": {
        "colab": {
          "base_uri": "https://localhost:8080/"
        },
        "id": "KDVfYvA-is3F",
        "outputId": "235712de-a29f-49b9-8f11-27e8087c1324"
      },
      "execution_count": 12,
      "outputs": [
        {
          "output_type": "stream",
          "name": "stdout",
          "text": [
            "Fitting GARCH Models:\n",
            "GARCH(1,1): AIC = -35514.28365673985\n",
            "GARCH(1,2): AIC = -35238.3242691789\n",
            "GARCH(2,1): AIC = -35509.017808136596\n",
            "GARCH(2,2): AIC = -35487.74204993533\n",
            "Best GARCH model: GARCH(1,1)\n",
            "                     Constant Mean - GARCH Model Results                      \n",
            "==============================================================================\n",
            "Dep. Variable:                Returns   R-squared:                       0.000\n",
            "Mean Model:             Constant Mean   Adj. R-squared:                  0.000\n",
            "Vol Model:                      GARCH   Log-Likelihood:                17761.1\n",
            "Distribution:                  Normal   AIC:                          -35514.3\n",
            "Method:            Maximum Likelihood   BIC:                          -35487.9\n",
            "                                        No. Observations:                 5380\n",
            "Date:                Fri, Dec 13 2024   Df Residuals:                     5379\n",
            "Time:                        08:20:06   Df Model:                            1\n",
            "                                   Mean Model                                  \n",
            "===============================================================================\n",
            "                  coef    std err          t      P>|t|        95.0% Conf. Int.\n",
            "-------------------------------------------------------------------------------\n",
            "mu         -4.8343e-04  1.088e-04     -4.442  8.924e-06 [-6.967e-04,-2.701e-04]\n",
            "                              Volatility Model                              \n",
            "============================================================================\n",
            "                 coef    std err          t      P>|t|      95.0% Conf. Int.\n",
            "----------------------------------------------------------------------------\n",
            "omega      2.1475e-06  1.061e-13  2.024e+07      0.000 [2.148e-06,2.148e-06]\n",
            "alpha[1]       0.1000  7.269e-04    137.568      0.000   [9.858e-02,  0.101]\n",
            "beta[1]        0.8800  2.506e-03    351.174      0.000     [  0.875,  0.885]\n",
            "============================================================================\n",
            "\n",
            "Covariance estimator: robust\n"
          ]
        }
      ]
    },
    {
      "cell_type": "markdown",
      "source": [
        "# 4. GARCH Model and Justification\n",
        "\n"
      ],
      "metadata": {
        "id": "FysVloqSFkZ4"
      }
    },
    {
      "cell_type": "markdown",
      "source": [
        "The best GARCH model for this data is GARCH(1,1), as determined by the lowest AIC value (-35514.3) among all tested models. The AIC (Akaike Information Criterion) is a widely used metric for model selection, with lower values indicating a better fit while penalizing model complexity.\n",
        "\n",
        "### Justification:\n",
        "* Performance Metric (AIC): The GARCH(1,1) model has the lowest AIC compared to GARCH(1,2), GARCH(2,1), and GARCH(2,2). This suggests it provides the best trade-off between goodness of fit and simplicity.\n",
        "\n",
        "* Parsimonious Model: The GARCH(1,1) model is simpler than models with higher orders (e.g., GARCH(2,2)) while still effectively capturing the volatility dynamics in the data.\n",
        "\n",
        "* Statistical Significance: All parameters in the GARCH(1,1) model, including ω, α1, and β1, are highly significant (p-values < 0.001), confirming their relevance in explaining the volatility.\n",
        "\n",
        "* Model Stability: The sum of α1 + β1 = 0.98, which is less than 1, ensures that the model is stable and consistent with the properties of financial time series.\n",
        "\n",
        "Given these points, the GARCH(1,1) model is both statistically robust and computationally efficient, making it the optimal choice for modeling the volatility in this dataset.\n"
      ],
      "metadata": {
        "id": "9CGH-4-dIO4c"
      }
    }
  ]
}